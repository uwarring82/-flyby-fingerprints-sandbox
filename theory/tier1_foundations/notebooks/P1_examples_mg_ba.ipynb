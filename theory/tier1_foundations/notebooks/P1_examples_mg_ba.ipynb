{
 "cells": [
  {
   "cell_type": "markdown",
   "metadata": {},
   "source": [
    "# P1 Examples \u2014 Single-Ion Dynamics (Mg\u207a & Ba\u207a)\n",
    "This notebook reproduces the Mg\u207a and Ba\u207a reference calculations for Pillar 1. See the [theory notes](../P1_single_ion_dynamics.md) for derivations and context."
   ]
  },
  {
   "cell_type": "code",
   "execution_count": null,
   "metadata": {},
   "outputs": [],
   "source": [
    "import numpy as np\n",
    "import math\n",
    "import matplotlib.pyplot as plt\n",
    "\n",
    "# Physical constants (SI)\n",
    "e = 1.602176634e-19\n",
    "hbar = 1.054571817e-34\n",
    "kB = 1.380649e-23\n",
    "\n",
    "# Species masses (kg)\n",
    "m_Mg = 3.984e-26     # 24Mg+\n",
    "m_Ba = 2.293e-25     # 138Ba+\n"
   ]
  },
  {
   "cell_type": "code",
   "execution_count": null,
   "metadata": {},
   "outputs": [],
   "source": [
    "def q_param(Vrf, r0, Omega_rf, m):\n",
    "    return 2 * e * Vrf / (m * r0**2 * Omega_rf**2)\n",
    "\n",
    "def omega_sec(Omega_rf, q, a=0.0):\n",
    "    \"\"\"Secular frequency in the small-q limit.\n",
    "    Parameters\n",
    "    ----------\n",
    "    Omega_rf : float\n",
    "        RF drive angular frequency (rad/s).\n",
    "    q : array_like\n",
    "        Mathieu q parameter.\n",
    "    a : float, optional\n",
    "        Mathieu a parameter (defaults to 0 for radial modes).\n",
    "    \"\"\"\n",
    "    return 0.5 * Omega_rf * np.sqrt(a + 0.5 * np.square(q))\n",
    "\n",
    "def emm_amplitude_direct(Edc, m, Omega_rf):\n",
    "    \"\"\"Excess micromotion amplitude for a stray DC field Edc.\"\"\"\n",
    "    return e * Edc / (m * Omega_rf**2)\n",
    "\n",
    "def emm_energy_T(u_mm, m, Omega_rf):\n",
    "    \"\"\"Cycle-averaged micromotion energy converted to kelvin.\"\"\"\n",
    "    Emm = 0.25 * m * Omega_rf**2 * np.square(u_mm)\n",
    "    return Emm / kB\n",
    "\n",
    "def x0(hbar, m, omega):\n",
    "    return math.sqrt(hbar / (2 * m * omega))\n",
    "\n",
    "def eta(lambda_m, x0_m):\n",
    "    k = 2 * math.pi / lambda_m\n",
    "    return k * x0_m\n"
   ]
  },
  {
   "cell_type": "code",
   "execution_count": null,
   "metadata": {},
   "outputs": [],
   "source": [
    "# Example trap\n",
    "Vrf = 300.0       # V\n",
    "r0 = 0.5e-3       # m\n",
    "Omega_rf = 2 * math.pi * 20e6  # rad/s\n",
    "Edc = 100.0       # V/m\n",
    "\n",
    "for name, m in [(\"Mg+\", m_Mg), (\"Ba+\", m_Ba)]:\n",
    "    q = q_param(Vrf, r0, Omega_rf, m)\n",
    "    w = omega_sec(Omega_rf, q, a=0.0)\n",
    "    u = emm_amplitude_direct(Edc, m, Omega_rf)\n",
    "    Tmm_mK = 1e3 * emm_energy_T(u, m, Omega_rf)\n",
    "\n",
    "    print(f\"{name}: q={q:.3f}, omega_sec/2\u03c0={w / (2 * math.pi):.3f} MHz, u_mm={u * 1e9:.2f} nm, <E_mm>= {Tmm_mK:.2f} mK\")\n",
    "\n",
    "# Zero-point motion and Lamb\u2013Dicke parameters at 1 MHz\n",
    "omega_1MHz = 2 * math.pi * 1e6\n",
    "x0_Mg = x0(hbar, m_Mg, omega_1MHz)\n",
    "x0_Ba = x0(hbar, m_Ba, omega_1MHz)\n",
    "eta_Mg_280 = eta(280e-9, x0_Mg)\n",
    "eta_Ba_493 = eta(493e-9, x0_Ba)\n",
    "eta_Ba_1762 = eta(1762e-9, x0_Ba)\n",
    "\n",
    "print(f\"\\nZero-point @1 MHz: x0(Mg+)={x0_Mg * 1e9:.2f} nm, x0(Ba+)={x0_Ba * 1e9:.2f} nm\")\n",
    "print(f\"Lamb\u2013Dicke: eta(Mg+,280nm)={eta_Mg_280:.3f}, eta(Ba+,493nm)={eta_Ba_493:.3f}, eta(Ba+,1762nm)={eta_Ba_1762:.4f}\")\n"
   ]
  },
  {
   "cell_type": "code",
   "execution_count": null,
   "metadata": {},
   "outputs": [],
   "source": [
    "%matplotlib inline\n",
    "Vrf_grid = np.linspace(50, 500, 200)\n",
    "\n",
    "def sec_freq_curve(m):\n",
    "    qg = q_param(Vrf_grid, r0, Omega_rf, m)\n",
    "    return omega_sec(Omega_rf, qg) / (2 * np.pi)\n",
    "\n",
    "plt.figure()\n",
    "plt.plot(Vrf_grid, q_param(Vrf_grid, r0, Omega_rf, m_Mg), label=\"q (Mg+)\")\n",
    "plt.plot(Vrf_grid, q_param(Vrf_grid, r0, Omega_rf, m_Ba), label=\"q (Ba+)\")\n",
    "plt.xlabel(\"Vrf (V)\")\n",
    "plt.ylabel(\"q\")\n",
    "plt.legend()\n",
    "plt.title(\"Stability parameter q vs Vrf\")\n",
    "plt.show()\n",
    "\n",
    "plt.figure()\n",
    "plt.plot(Vrf_grid, sec_freq_curve(m_Mg) / 1e6, label=\"\u03c9\u22a5/2\u03c0 (Mg+)\")\n",
    "plt.plot(Vrf_grid, sec_freq_curve(m_Ba) / 1e6, label=\"\u03c9\u22a5/2\u03c0 (Ba+)\")\n",
    "plt.xlabel(\"Vrf (V)\")\n",
    "plt.ylabel(\"Frequency (MHz)\")\n",
    "plt.legend()\n",
    "plt.title(\"Secular frequency vs Vrf\")\n",
    "plt.show()\n",
    "\n",
    "Edc_grid = np.linspace(1, 200, 200)\n",
    "\n",
    "def Tmm_curve(m):\n",
    "    u = emm_amplitude_direct(Edc_grid, m, Omega_rf)\n",
    "    return 1e3 * emm_energy_T(u, m, Omega_rf)\n",
    "\n",
    "plt.figure()\n",
    "plt.plot(Edc_grid, Tmm_curve(m_Mg), label=\"<E_mm> (Mg+)\")\n",
    "plt.plot(Edc_grid, Tmm_curve(m_Ba), label=\"<E_mm> (Ba+)\")\n",
    "plt.xlabel(\"Edc (V/m)\")\n",
    "plt.ylabel(\"<E_mm> (mK)\")\n",
    "plt.legend()\n",
    "plt.title(\"Micromotion energy vs stray field\")\n",
    "plt.show()\n"
   ]
  },
  {
   "cell_type": "markdown",
   "metadata": {},
   "source": [
    "## Notes\n",
    "- Assumes $a \rightarrow 0$ for radial confinement and the small-$q$ pseudopotential approximation.\n",
    "- Change $V_{\\text{rf}}$, $r_0$, $\\Omega_{\\text{rf}}$, or $E_{\\text{dc}}$ above to explore different trap settings.\n",
    "- Pillar 2 and 3 notebooks will extend these calculations to collisions and multi-ion chains."
   ]
  }
 ],
 "metadata": {
  "kernelspec": {
   "display_name": "Python 3",
   "language": "python",
   "name": "python3"
  },
  "language_info": {
   "name": "python",
   "version": "3.11"
  }
 },
 "nbformat": 4,
 "nbformat_minor": 5
}